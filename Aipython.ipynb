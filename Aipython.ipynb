{
  "nbformat": 4,
  "nbformat_minor": 0,
  "metadata": {
    "colab": {
      "provenance": [],
      "authorship_tag": "ABX9TyMx7wlkgtyZW5r2qsD+Y1t7",
      "include_colab_link": true
    },
    "kernelspec": {
      "name": "python3",
      "display_name": "Python 3"
    },
    "language_info": {
      "name": "python"
    }
  },
  "cells": [
    {
      "cell_type": "markdown",
      "metadata": {
        "id": "view-in-github",
        "colab_type": "text"
      },
      "source": [
        "<a href=\"https://colab.research.google.com/github/priyanshujaiswalku/Bank-Management-System/blob/main/Aipython.ipynb\" target=\"_parent\"><img src=\"https://colab.research.google.com/assets/colab-badge.svg\" alt=\"Open In Colab\"/></a>"
      ]
    },
    {
      "cell_type": "code",
      "source": [
        "#Question-4\n",
        "def gcd(a, b):\n",
        "    if b==0:\n",
        "        return a\n",
        "    return gcd(b, a%b)\n",
        "\n",
        "def Pour(toJugCap, fromJugCap, d):\n",
        "    fromJug = fromJugCap\n",
        "    toJug  = 0\n",
        "    step = 1\n",
        "    while ((fromJug  is not d) and (toJug is not d)):\n",
        "        temp = min(fromJug, toJugCap-toJug)\n",
        "        toJug = toJug + temp\n",
        "        fromJug = fromJug - temp\n",
        "        step =  step + 1\n",
        "        if ((fromJug == d) or (toJug == d)):\n",
        "            break\n",
        "        if fromJug == 0:\n",
        "            fromJug = fromJugCap\n",
        "            step =  step + 1\n",
        "        if toJug == toJugCap:\n",
        "            toJug = 0\n",
        "            step =  step + 1\n",
        "    return step\n",
        "\n",
        "def minSteps(n, m, d):\n",
        "    if m> n:\n",
        "        temp = m\n",
        "        m = n\n",
        "        n = temp\n",
        "    if (d%(gcd(n,m)) != 0):\n",
        "        return -1\n",
        "    return(min(Pour(n,m,d), Pour(m,n,d)))\n",
        "\n",
        "if __name__ == '__main__':\n",
        "    n = 3\n",
        "    m = 5\n",
        "    d = 4\n",
        "    print('Minimum number of steps required is', minSteps(n, m, d))"
      ],
      "metadata": {
        "colab": {
          "base_uri": "https://localhost:8080/"
        },
        "id": "_pmlC38W4N3p",
        "outputId": "0756be52-c8e5-4b1e-c803-4c320f51f29a"
      },
      "execution_count": 15,
      "outputs": [
        {
          "output_type": "stream",
          "name": "stdout",
          "text": [
            "Minimum number of steps required is 6\n"
          ]
        },
        {
          "output_type": "stream",
          "name": "stderr",
          "text": [
            "<>:57: SyntaxWarning: \"is not\" with a literal. Did you mean \"!=\"?\n",
            "<>:57: SyntaxWarning: \"is not\" with a literal. Did you mean \"!=\"?\n",
            "<ipython-input-15-b01d187375e5>:57: SyntaxWarning: \"is not\" with a literal. Did you mean \"!=\"?\n",
            "  if (d%(gcd(n,m)) is not 0):\n"
          ]
        }
      ]
    },
    {
      "cell_type": "code",
      "source": [
        "#Question-5\n",
        "def add_number(a,b):\n",
        "  return a + b\n",
        "\n",
        "a = float(input(\"Enter the 1st number: \"))\n",
        "b = float(input(\"Enter the 2nd number: \"))\n",
        "\n",
        "result = add_number(a,b)\n",
        "print(f\"sum number is {a}, {b} is {result}.\")\n",
        "\n",
        "\n",
        "\n",
        "\n"
      ],
      "metadata": {
        "colab": {
          "base_uri": "https://localhost:8080/"
        },
        "id": "L_ZiRou_y3Ai",
        "outputId": "8cdb95ce-4aa4-4abe-d97d-6dd0128a5b5a"
      },
      "execution_count": 12,
      "outputs": [
        {
          "output_type": "stream",
          "name": "stdout",
          "text": [
            "Enter the 1st number: 1\n",
            "Enter the 2nd number: 2\n",
            "sum number is 1.0, 2.0 is 3.0.\n"
          ]
        }
      ]
    },
    {
      "cell_type": "code",
      "source": [
        "#Question-3\n",
        "def find_max(a, b, c):\n",
        "    if a >= b and a >= c:\n",
        "        return a\n",
        "    elif b >= a and b >= c:\n",
        "        return b\n",
        "    else:\n",
        "        return c\n",
        "\n",
        "a = float(input(\"Enter the 1st number: \"))\n",
        "b = float(input(\"Enter the 2nd number: \"))\n",
        "c = float(input(\"Enter the 3rd number: \"))\n",
        "maximum = find_max(a,b,c)\n",
        "print(f\"maximum number is {a}, {b}, and {c} is {maximum}.\")\n",
        "\n",
        "find_max()\n"
      ],
      "metadata": {
        "colab": {
          "base_uri": "https://localhost:8080/"
        },
        "id": "_Vn73gDtrA_u",
        "outputId": "e2ae88a4-1a09-498f-9ed8-11bed006dcb6"
      },
      "execution_count": 7,
      "outputs": [
        {
          "output_type": "stream",
          "name": "stdout",
          "text": [
            "Enter the 1st number: 1\n",
            "Enter the 2nd number: 2\n",
            "Enter the 3rd number: 3\n",
            "maximum number is 1.0, 2.0, and 3.0 is 3.0.\n"
          ]
        },
        {
          "output_type": "execute_result",
          "data": {
            "text/plain": [
              "3"
            ]
          },
          "metadata": {},
          "execution_count": 7
        }
      ]
    },
    {
      "cell_type": "code",
      "source": [
        "#Question-2\n",
        "def fibonacci_series(n):\n",
        "    if n == 1:\n",
        "        return [0]\n",
        "    elif n == 2:\n",
        "        return [0, 1]\n",
        "    else:\n",
        "        series = [0, 1]\n",
        "        for i in range(2, n):\n",
        "            series.append(series[-1] + series[-2])\n",
        "        return series\n",
        "\n",
        "num_terms = int(input(\"Enter the number of terms: \"))\n",
        "print(f\"The Fibonacci series with {num_terms} terms is: {fibonacci_series(num_terms)}\")\n",
        "\n",
        "fibonacci_series()\n"
      ],
      "metadata": {
        "colab": {
          "base_uri": "https://localhost:8080/"
        },
        "id": "qAVxBsczpmHU",
        "outputId": "92af2bf1-1302-42ce-b9cf-2fc7583c1704"
      },
      "execution_count": 4,
      "outputs": [
        {
          "output_type": "stream",
          "name": "stdout",
          "text": [
            "Enter the number of terms: 3\n",
            "The Fibonacci series with 3 terms is: [0, 1, 1]\n"
          ]
        },
        {
          "output_type": "execute_result",
          "data": {
            "text/plain": [
              "[0, 1, 1]"
            ]
          },
          "metadata": {},
          "execution_count": 4
        }
      ]
    },
    {
      "cell_type": "code",
      "execution_count": 18,
      "metadata": {
        "colab": {
          "base_uri": "https://localhost:8080/"
        },
        "id": "7fhox-zQnAqU",
        "outputId": "fa7a13c9-1f01-4e8a-d888-131aadeb122a"
      },
      "outputs": [
        {
          "output_type": "stream",
          "name": "stdout",
          "text": [
            "Enter a number: 4\n",
            "The factorial of 4 is 24\n"
          ]
        }
      ],
      "source": [
        "# Question-1\n",
        "def factorial(n):\n",
        "    if n == 0 or n == 1:\n",
        "        return 1\n",
        "    else:\n",
        "        result = 1\n",
        "        for i in range(2, n+1):\n",
        "            result *= i\n",
        "        return result\n",
        "\n",
        "num = int(input(\"Enter a number: \"))\n",
        "print(f\"The factorial of {num} is {factorial(num)}\")\n"
      ]
    },
    {
      "cell_type": "markdown",
      "source": [],
      "metadata": {
        "id": "5HBQI_S6JuTr"
      }
    },
    {
      "cell_type": "markdown",
      "source": [],
      "metadata": {
        "id": "UbhbelH5JuX0"
      }
    },
    {
      "cell_type": "code",
      "source": [],
      "metadata": {
        "id": "gjiLUsuEJvcR"
      },
      "execution_count": null,
      "outputs": []
    }
  ]
}